{
  "nbformat": 4,
  "nbformat_minor": 0,
  "metadata": {
    "colab": {
      "name": "Practice.ipynb",
      "provenance": [],
      "authorship_tag": "ABX9TyOMZEw1KvOPccycuCSMI0iG",
      "include_colab_link": true
    },
    "kernelspec": {
      "name": "python3",
      "display_name": "Python 3"
    },
    "language_info": {
      "name": "python"
    }
  },
  "cells": [
    {
      "cell_type": "markdown",
      "metadata": {
        "id": "view-in-github",
        "colab_type": "text"
      },
      "source": [
        "<a href=\"https://colab.research.google.com/github/ZENZENBoi/Practice/blob/main/Practice.ipynb\" target=\"_parent\"><img src=\"https://colab.research.google.com/assets/colab-badge.svg\" alt=\"Open In Colab\"/></a>"
      ]
    },
    {
      "cell_type": "markdown",
      "metadata": {
        "id": "XN_v5m5Pny6d"
      },
      "source": [
        "###Phython Basics"
      ]
    },
    {
      "cell_type": "code",
      "metadata": {
        "colab": {
          "base_uri": "https://localhost:8080/"
        },
        "id": "DSK4SGn9oMH2",
        "outputId": "f428ea74-1fe6-4b28-c16d-46aacddf055b"
      },
      "source": [
        "x=\"probably\"\n",
        "print(x)"
      ],
      "execution_count": 73,
      "outputs": [
        {
          "output_type": "stream",
          "name": "stdout",
          "text": [
            "probably\n"
          ]
        }
      ]
    },
    {
      "cell_type": "code",
      "metadata": {
        "colab": {
          "base_uri": "https://localhost:8080/"
        },
        "id": "3Ay-KNWZn3Bt",
        "outputId": "3a6d58ca-ae1d-4c59-8098-b5d31599ff21"
      },
      "source": [
        "if 5>2:\n",
        "  print(\"five is greater than two \"+ x)"
      ],
      "execution_count": 74,
      "outputs": [
        {
          "output_type": "stream",
          "name": "stdout",
          "text": [
            "five is greater than two probably\n"
          ]
        }
      ]
    },
    {
      "cell_type": "code",
      "metadata": {
        "colab": {
          "base_uri": "https://localhost:8080/"
        },
        "id": "gkKBPWFppvHb",
        "outputId": "342274dc-66b4-4426-eeea-e35fe6e3109b"
      },
      "source": [
        "x = 55/11\n",
        "print(x)"
      ],
      "execution_count": 21,
      "outputs": [
        {
          "output_type": "stream",
          "name": "stdout",
          "text": [
            "5.0\n"
          ]
        }
      ]
    },
    {
      "cell_type": "code",
      "metadata": {
        "colab": {
          "base_uri": "https://localhost:8080/"
        },
        "id": "jRg4WTPZqdrV",
        "outputId": "c2dc2730-c21b-4766-b2d3-96918a6ac950"
      },
      "source": [
        "squares = [1,2,3,4,5]\n",
        "print(squares[0])"
      ],
      "execution_count": 22,
      "outputs": [
        {
          "output_type": "stream",
          "name": "stdout",
          "text": [
            "1\n"
          ]
        }
      ]
    },
    {
      "cell_type": "code",
      "metadata": {
        "colab": {
          "base_uri": "https://localhost:8080/"
        },
        "id": "a-Jtn4R4q8jr",
        "outputId": "0407300e-d9d3-4fdb-9183-23933939e94a"
      },
      "source": [
        "First = [0, 1, 10 ,24, 50, 36]\n",
        "print(First[2])"
      ],
      "execution_count": 32,
      "outputs": [
        {
          "output_type": "stream",
          "name": "stdout",
          "text": [
            "10\n"
          ]
        }
      ]
    },
    {
      "cell_type": "code",
      "metadata": {
        "colab": {
          "base_uri": "https://localhost:8080/"
        },
        "id": "UPQVyHtrsTBr",
        "outputId": "1b2063b2-b49e-4f81-92e7-90c580ea0149"
      },
      "source": [
        "word=\"galaxy\"\n",
        "print(len(word[1:]))"
      ],
      "execution_count": 33,
      "outputs": [
        {
          "output_type": "stream",
          "name": "stdout",
          "text": [
            "5\n"
          ]
        }
      ]
    },
    {
      "cell_type": "code",
      "metadata": {
        "colab": {
          "base_uri": "https://localhost:8080/"
        },
        "id": "ZL1W2bpmtlMb",
        "outputId": "32e5ae12-9d76-4088-fa36-fafa72b32b8f"
      },
      "source": [
        "A=\"Jovanny\" #This is a string\n",
        "a=15\n",
        "print(a)\n",
        "print(A+\"   \",a)\n"
      ],
      "execution_count": 53,
      "outputs": [
        {
          "output_type": "stream",
          "name": "stdout",
          "text": [
            "15\n",
            "Jovanny    15\n"
          ]
        }
      ]
    },
    {
      "cell_type": "code",
      "metadata": {
        "colab": {
          "base_uri": "https://localhost:8080/"
        },
        "id": "6G4Cr8GBu-WL",
        "outputId": "07f49302-bbf9-4cde-a48d-f5fe53482ac2"
      },
      "source": [
        "x=12\n",
        "x,y=12,15\n",
        "x,y,z=12,15,18\n",
        "\n",
        "print((x,y)+(x,y,z))"
      ],
      "execution_count": 58,
      "outputs": [
        {
          "output_type": "stream",
          "name": "stdout",
          "text": [
            "(12, 15, 12, 15, 18)\n"
          ]
        }
      ]
    },
    {
      "cell_type": "code",
      "metadata": {
        "colab": {
          "base_uri": "https://localhost:8080/"
        },
        "id": "0-5eqmWxvpzi",
        "outputId": "5b7b0c8e-7d0a-4a94-a91b-e53e93bcb3ec"
      },
      "source": [
        "x=\"i love suffering\"\n",
        "y=\"i hope you understand\"\n",
        "z= 15555\n",
        "print(type(x))\n",
        "print(type(y))\n",
        "print(type(z))"
      ],
      "execution_count": 60,
      "outputs": [
        {
          "output_type": "stream",
          "name": "stdout",
          "text": [
            "<class 'str'>\n",
            "<class 'str'>\n",
            "<class 'int'>\n"
          ]
        }
      ]
    },
    {
      "cell_type": "code",
      "metadata": {
        "colab": {
          "base_uri": "https://localhost:8080/"
        },
        "id": "mJRjAl40wZ_J",
        "outputId": "244ffe7f-00c8-4dcd-a131-354695029b0f"
      },
      "source": [
        "b = float(70)\n",
        "print(b)\n",
        "c = int(70)\n",
        "print(c)\n",
        "d = float(70)\n",
        "e = b,c,d\n",
        "print(d)\n",
        "print((b)+(c)+(d))\n",
        "print(e)"
      ],
      "execution_count": 75,
      "outputs": [
        {
          "output_type": "stream",
          "name": "stdout",
          "text": [
            "70.0\n",
            "70\n",
            "70.0\n",
            "210.0\n",
            "(70.0, 70, 70.0)\n"
          ]
        }
      ]
    },
    {
      "cell_type": "code",
      "metadata": {
        "colab": {
          "base_uri": "https://localhost:8080/"
        },
        "id": "pNqkRS2-xxqp",
        "outputId": "3bb39e93-b16e-488e-c6fc-466bb8be1efa"
      },
      "source": [
        "x = y = z = 12\n",
        "print(x)\n",
        "print(z)"
      ],
      "execution_count": 83,
      "outputs": [
        {
          "output_type": "stream",
          "name": "stdout",
          "text": [
            "12\n",
            "12\n"
          ]
        }
      ]
    },
    {
      "cell_type": "code",
      "metadata": {
        "colab": {
          "base_uri": "https://localhost:8080/"
        },
        "id": "wRIszi_UyfEB",
        "outputId": "391c08d7-d8f8-4725-ad63-ba2ce6317a0d"
      },
      "source": [
        "x = int(24)\n",
        "y = int(12)\n",
        "xy= str(\"happier \")\n",
        "yx= str(\"sadness\")\n",
        "print(xy + yx)\n",
        "print(x/y)"
      ],
      "execution_count": 94,
      "outputs": [
        {
          "output_type": "stream",
          "name": "stdout",
          "text": [
            "happier sadness\n",
            "2.0\n"
          ]
        }
      ]
    },
    {
      "cell_type": "code",
      "metadata": {
        "colab": {
          "base_uri": "https://localhost:8080/"
        },
        "id": "68ML6KLo0KL5",
        "outputId": "977802b4-20d5-48e0-e276-3e384757fb04"
      },
      "source": [
        "x = 123\n",
        "x-=3 #this is same as x = x - 3\n",
        "x+=3 #this is same as x = x + 3\n",
        "print(x)"
      ],
      "execution_count": 101,
      "outputs": [
        {
          "output_type": "stream",
          "name": "stdout",
          "text": [
            "123\n"
          ]
        }
      ]
    },
    {
      "cell_type": "code",
      "metadata": {
        "colab": {
          "base_uri": "https://localhost:8080/"
        },
        "id": "dkmRom2q1API",
        "outputId": "ea276d97-0a3e-4e37-9632-352eef4b12f2"
      },
      "source": [
        "x=3\n",
        "y=4\n",
        "z=10\n",
        "print(x>y)\n",
        "print(z==x)\n",
        "print(y>15)\n",
        "print(x==z and y==z)\n",
        "print(x==y or y==z)\n",
        "print(x==y or y==z)\n",
        "not(print(x==y or y==z))\n",
        "print(x is y)\n",
        "print(x is not y)"
      ],
      "execution_count": 117,
      "outputs": [
        {
          "output_type": "stream",
          "name": "stdout",
          "text": [
            "False\n",
            "False\n",
            "False\n",
            "False\n",
            "False\n",
            "False\n",
            "False\n",
            "False\n",
            "True\n"
          ]
        }
      ]
    },
    {
      "cell_type": "code",
      "metadata": {
        "colab": {
          "base_uri": "https://localhost:8080/"
        },
        "id": "Uv5ep5er3yFP",
        "outputId": "88f37217-c742-4eeb-d7a5-78442d768c5d"
      },
      "source": [
        "x= 6 & 3\n",
        "xx= 6 >> 3\n",
        "yy= 6 << 3\n",
        "y= 10|20\n",
        "print(x)\n",
        "print(y)\n",
        "print(xx)\n",
        "print(yy)"
      ],
      "execution_count": 122,
      "outputs": [
        {
          "output_type": "stream",
          "name": "stdout",
          "text": [
            "2\n",
            "30\n",
            "0\n",
            "48\n"
          ]
        }
      ]
    },
    {
      "cell_type": "markdown",
      "metadata": {
        "id": "BjbudmHy3Sbb"
      },
      "source": [
        "###Boolean Operators "
      ]
    },
    {
      "cell_type": "markdown",
      "metadata": {
        "id": "b975Zjf33Xsv"
      },
      "source": [
        "###Fukk kakayanin natin to"
      ]
    },
    {
      "cell_type": "code",
      "metadata": {
        "colab": {
          "base_uri": "https://localhost:8080/"
        },
        "id": "5OblsXNN3cni",
        "outputId": "310fbb71-e8fc-4fac-e076-20067d505e92"
      },
      "source": [
        "print(10>3)\n",
        "print(15==15)"
      ],
      "execution_count": 125,
      "outputs": [
        {
          "output_type": "stream",
          "name": "stdout",
          "text": [
            "True\n",
            "True\n"
          ]
        }
      ]
    },
    {
      "cell_type": "code",
      "metadata": {
        "colab": {
          "base_uri": "https://localhost:8080/"
        },
        "id": "N1agQq_z40T_",
        "outputId": "6e5faf0c-e3ef-4242-a0fa-44572106f849"
      },
      "source": [
        "print(bool(\"WATDAFAK\"))\n",
        "print(bool(99999))\n",
        "print(bool(90>10))\n",
        "print(bool(90<10))\n",
        "print(bool(90==10))"
      ],
      "execution_count": 129,
      "outputs": [
        {
          "output_type": "stream",
          "name": "stdout",
          "text": [
            "True\n",
            "True\n",
            "True\n",
            "False\n",
            "False\n"
          ]
        }
      ]
    },
    {
      "cell_type": "code",
      "metadata": {
        "colab": {
          "base_uri": "https://localhost:8080/"
        },
        "id": "kLOtn9Qy50Zg",
        "outputId": "95f0522c-0c36-4845-9038-2fa17a3dbae8"
      },
      "source": [
        "print(bool({}))\n",
        "print(bool([]))\n",
        "print(bool(False))\n",
        "print(bool())\n",
        "print(bool(\"\"))"
      ],
      "execution_count": 134,
      "outputs": [
        {
          "output_type": "stream",
          "name": "stdout",
          "text": [
            "False\n",
            "False\n",
            "False\n",
            "False\n",
            "False\n"
          ]
        }
      ]
    },
    {
      "cell_type": "code",
      "metadata": {
        "colab": {
          "base_uri": "https://localhost:8080/"
        },
        "id": "FgUKbvOK6R7e",
        "outputId": "cd2377df-11f0-4b66-c388-1af343da207a"
      },
      "source": [
        "def myFunction(): return True\n",
        "print(myFunction())"
      ],
      "execution_count": 151,
      "outputs": [
        {
          "output_type": "stream",
          "name": "stdout",
          "text": [
            "True\n"
          ]
        }
      ]
    },
    {
      "cell_type": "code",
      "metadata": {
        "colab": {
          "base_uri": "https://localhost:8080/"
        },
        "id": "cE5om0Mx7fx1",
        "outputId": "0c8c2b53-7c26-4e65-e206-af4fc103847c"
      },
      "source": [
        "def myFunction(): return True\n",
        "if myFunction():\n",
        "  print(\"Yes\")\n",
        "else:\n",
        "  print(\"No\")"
      ],
      "execution_count": 157,
      "outputs": [
        {
          "output_type": "stream",
          "name": "stdout",
          "text": [
            "Yes\n"
          ]
        }
      ]
    },
    {
      "cell_type": "code",
      "metadata": {
        "colab": {
          "base_uri": "https://localhost:8080/"
        },
        "id": "zUcTnm5y853i",
        "outputId": "0a5ae45b-b551-4f63-e739-29824619a862"
      },
      "source": [
        "def myFunction(): return False\n",
        "if myFunction():\n",
        "  print(\"Yes\")\n",
        "else:\n",
        "  print(\"No\")"
      ],
      "execution_count": 158,
      "outputs": [
        {
          "output_type": "stream",
          "name": "stdout",
          "text": [
            "No\n"
          ]
        }
      ]
    },
    {
      "cell_type": "code",
      "metadata": {
        "colab": {
          "base_uri": "https://localhost:8080/"
        },
        "id": "0f2puGO_9sNN",
        "outputId": "05dc9d7f-744a-45d5-bcb4-6f466bb220cc"
      },
      "source": [
        "print(10>9)\n",
        "a=6\n",
        "b=7\n",
        "print(a==b)\n",
        "print(a!=b)"
      ],
      "execution_count": 160,
      "outputs": [
        {
          "output_type": "stream",
          "name": "stdout",
          "text": [
            "True\n",
            "False\n",
            "True\n"
          ]
        }
      ]
    },
    {
      "cell_type": "code",
      "metadata": {
        "colab": {
          "base_uri": "https://localhost:8080/"
        },
        "id": "OLGigdS3-OP1",
        "outputId": "4dd3c134-0983-4862-9cef-f89aa9422f3f"
      },
      "source": [
        "print(10+5)\n",
        "print(10-5)\n",
        "print(10*5)\n",
        "print(10**5)\n",
        "print(10/5) #This is quotient\n",
        "print(10%5) #This is modulo division\n",
        "print(10//3) #This is floor division"
      ],
      "execution_count": 166,
      "outputs": [
        {
          "output_type": "stream",
          "name": "stdout",
          "text": [
            "15\n",
            "5\n",
            "50\n",
            "100000\n",
            "2.0\n",
            "0\n",
            "3\n"
          ]
        }
      ]
    },
    {
      "cell_type": "code",
      "metadata": {
        "colab": {
          "base_uri": "https://localhost:8080/"
        },
        "id": "0qWuR7BD_RQl",
        "outputId": "8e2de926-d925-4b28-9601-6f493163a6aa"
      },
      "source": [
        "a = 60 #0011 1100\n",
        "b = 13 #0000 1101\n",
        "print(a & b)\n",
        "print(a | b)\n",
        "print(a ^ b)\n",
        "print(a >> 3)\n",
        "print(a << 3)"
      ],
      "execution_count": 177,
      "outputs": [
        {
          "output_type": "stream",
          "name": "stdout",
          "text": [
            "12\n",
            "61\n",
            "49\n",
            "7\n",
            "480\n"
          ]
        }
      ]
    },
    {
      "cell_type": "code",
      "metadata": {
        "colab": {
          "base_uri": "https://localhost:8080/"
        },
        "id": "aEj14rceAtBV",
        "outputId": "a0129803-c523-4022-e322-d6e1140ec881"
      },
      "source": [
        "x = 6\n",
        "x+= 3 #This is same as x = x + 3\n",
        "print(x)\n",
        "\n",
        "x%= 3#This is modulo division = x = %x\n",
        "print(x)"
      ],
      "execution_count": 180,
      "outputs": [
        {
          "output_type": "stream",
          "name": "stdout",
          "text": [
            "9\n",
            "0\n"
          ]
        }
      ]
    },
    {
      "cell_type": "code",
      "metadata": {
        "colab": {
          "base_uri": "https://localhost:8080/"
        },
        "id": "kcVXiQ3YBmT-",
        "outputId": "aa346fa8-3236-489e-a43d-cece2e00fa75"
      },
      "source": [
        "a = True\n",
        "b = False\n",
        "print(a and b)\n",
        "print(a or b)\n",
        "not print(a and b)\n",
        "print(not(a or b))"
      ],
      "execution_count": 182,
      "outputs": [
        {
          "output_type": "stream",
          "name": "stdout",
          "text": [
            "False\n",
            "True\n",
            "False\n",
            "False\n"
          ]
        }
      ]
    },
    {
      "cell_type": "code",
      "metadata": {
        "colab": {
          "base_uri": "https://localhost:8080/"
        },
        "id": "ypQXlY0eCGBz",
        "outputId": "b69c6341-65d2-4e6d-9840-32fcccad9f7b"
      },
      "source": [
        "x = True\n",
        "y = False \n",
        "print(x is y)\n",
        "print(x is not y)"
      ],
      "execution_count": 188,
      "outputs": [
        {
          "output_type": "stream",
          "name": "stdout",
          "text": [
            "False\n",
            "True\n"
          ]
        }
      ]
    }
  ]
}